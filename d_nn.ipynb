{
 "cells": [
  {
   "cell_type": "code",
   "execution_count": null,
   "metadata": {
    "_cell_guid": "b1076dfc-b9ad-4769-8c92-a6c4dae69d19",
    "_uuid": "8f2839f25d086af736a60e9eeb907d3b93b6e0e5"
   },
   "outputs": [],
   "source": [
    "import tensorflow as tf\n",
    "from tensorflow import keras\n",
    "import numpy\n",
    "from numpy import array\n",
    "from numpy import argmax\n",
    "from tensorflow.keras import layers\n",
    "# from keras.utils import to_categorical\n",
    "import pandas as pd\n",
    "import seaborn as sns"
   ]
  },
  {
   "cell_type": "code",
   "execution_count": null,
   "metadata": {
    "_cell_guid": "79c7e3d0-c299-4dcb-8224-4455121ee9b0",
    "_uuid": "d629ff2d2480ee46fbb7e2d37f6b5fab8052498a"
   },
   "outputs": [],
   "source": [
    "df_train = pd.read_csv('../input/X_train.txt', delimiter = ' ', header = None)\n",
    "df_train.head()\n",
    "X_train = df_train.values\n",
    "print(X_train.shape)"
   ]
  },
  {
   "cell_type": "code",
   "execution_count": null,
   "metadata": {},
   "outputs": [],
   "source": [
    "dfyt = pd.read_csv('../input/Y_train.txt', delimiter=' ', header=None)\n",
    "dfyt = dfyt.rename(index = int,columns = {0:561})\n",
    "Y_train = dfyt.values\n",
    "Y_train -= 1\n",
    "print(Y_train.shape)"
   ]
  },
  {
   "cell_type": "code",
   "execution_count": null,
   "metadata": {},
   "outputs": [],
   "source": [
    "corr = df_train.corr()\n",
    "sns.heatmap(corr)"
   ]
  },
  {
   "cell_type": "code",
   "execution_count": null,
   "metadata": {},
   "outputs": [],
   "source": [
    "columns = np.full((corr.shape[0],), True, dtype=bool)\n",
    "for i in range(corr.shape[0]):\n",
    "    for j in range(i+1, corr.shape[0]):\n",
    "        if corr.iloc[i,j] >= 0.95:\n",
    "            if columns[j]:\n",
    "                columns[j] = False\n",
    "selected_columns = df_train.columns[columns]\n",
    "df_train = df_train[selected_columns]"
   ]
  },
  {
   "cell_type": "code",
   "execution_count": null,
   "metadata": {},
   "outputs": [],
   "source": [
    "df_train.shape"
   ]
  },
  {
   "cell_type": "code",
   "execution_count": null,
   "metadata": {},
   "outputs": [],
   "source": [
    "X_train = df_train.values\n",
    "print(X_train.shape)"
   ]
  },
  {
   "cell_type": "code",
   "execution_count": null,
   "metadata": {},
   "outputs": [],
   "source": [
    "X = pd.concat([df_train,dfyt],axis = 1)\n",
    "X.head()\n",
    "Xd = X.values\n",
    "numpy.random.shuffle(Xd)\n",
    "Xt = pd.DataFrame(Xd)\n",
    "Xt.head()"
   ]
  },
  {
   "cell_type": "code",
   "execution_count": null,
   "metadata": {},
   "outputs": [],
   "source": [
    "c1 = numpy.arange(286)\n",
    "\n",
    "X_t = Xt[c1]\n",
    "Y_t = Xt[286]\n",
    "X_t = numpy.array(X_t)\n",
    "Y_t = numpy.array(Y_t)\n",
    "Y_t = numpy.reshape(Y_t,(9625,1))\n",
    "# Y_t -= 1\n",
    "print(Y_t)"
   ]
  },
  {
   "cell_type": "code",
   "execution_count": null,
   "metadata": {},
   "outputs": [],
   "source": [
    "model = tf.keras.Sequential()\n",
    "# Adds a densely-connected layer with 64 units to the model:\n",
    "#model.add(layers.Input(shape = (561,)))\n",
    "# model.add(layers.Dense(1280, activation='relu'))\n",
    "# model.add(layers.Dropout(0.2))\n",
    "# Add another:\n",
    "model.add(layers.Dense(640, activation='relu'))\n",
    "model.add(layers.Dropout(0.2))\n",
    "model.add(layers.Dense(320, activation='relu'))\n",
    "model.add(layers.Dropout(0.2))\n",
    "#model.add(layers.Dense(160, activation='relu'))\n",
    "model.add(layers.Dense(160, activation='relu'))\n",
    "model.add(layers.Dropout(0.2))\n",
    "model.add(layers.Dense(64, activation='relu'))\n",
    "# Add a softmax layer with 6 output units:\n",
    "model.add(layers.Dense(6, activation='softmax'))\n",
    "\n",
    "model.compile(optimizer='adam',loss='sparse_categorical_crossentropy', metrics=['accuracy'])"
   ]
  },
  {
   "cell_type": "code",
   "execution_count": null,
   "metadata": {},
   "outputs": [],
   "source": [
    "model.fit(X_t,Y_t, epochs=100)"
   ]
  },
  {
   "cell_type": "code",
   "execution_count": null,
   "metadata": {},
   "outputs": [],
   "source": [
    "testFrame = pd.read_csv('../input/X_test.txt', delimiter=' ', header=None)\n",
    "X_test = testFrame[selected_columns].values\n",
    "print(X_test.shape)"
   ]
  },
  {
   "cell_type": "code",
   "execution_count": null,
   "metadata": {},
   "outputs": [],
   "source": [
    "predictions = model.predict(X_test)\n",
    "test_predict = np.argmax(predictions, axis = 1)\n",
    "# pred = array([[]])\n",
    "# ids = array([])\n",
    "# for i in range(0, len(predictions)):\n",
    "#     pred = numpy.append(pred, argmax(predictions[i]))\n",
    "#     ids = numpy.append(ids, i)\n",
    "    \n",
    "import sys\n",
    "np.set_printoptions(threshold=sys.maxsize)\n",
    "for i in range(len(test_predict)):\n",
    "    print(i,',',test_predict[i]+1)"
   ]
  },
  {
   "cell_type": "code",
   "execution_count": null,
   "metadata": {},
   "outputs": [],
   "source": [
    "pred = pred + 1\n",
    "pred = numpy.vstack((ids, pred))\n",
    "print(pred.T)"
   ]
  },
  {
   "cell_type": "code",
   "execution_count": null,
   "metadata": {},
   "outputs": [],
   "source": [
    "pred = pred.astype(int)\n",
    "pred.T"
   ]
  },
  {
   "cell_type": "code",
   "execution_count": null,
   "metadata": {},
   "outputs": [],
   "source": [
    "import sys\n",
    "np.set_printoptions(threshold=sys.maxsize)\n",
    "for i in range(len(pred)):\n",
    "    print(i,',',r[i]+1)"
   ]
  }
 ],
 "metadata": {
  "kernelspec": {
   "display_name": "Python 3",
   "language": "python",
   "name": "python3"
  },
  "language_info": {
   "codemirror_mode": {
    "name": "ipython",
    "version": 3
   },
   "file_extension": ".py",
   "mimetype": "text/x-python",
   "name": "python",
   "nbconvert_exporter": "python",
   "pygments_lexer": "ipython3",
   "version": "3.7.1"
  }
 },
 "nbformat": 4,
 "nbformat_minor": 1
}
